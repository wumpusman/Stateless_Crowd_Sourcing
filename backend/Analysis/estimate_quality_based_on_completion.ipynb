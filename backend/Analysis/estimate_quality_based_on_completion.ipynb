{
 "cells": [
  {
   "cell_type": "code",
   "execution_count": 280,
   "metadata": {
    "collapsed": true
   },
   "outputs": [
    {
     "name": "stdout",
     "output_type": "stream",
     "text": [
      "OK\nThe autoreload extension is already loaded. To reload it, use:\n  %reload_ext autoreload\n"
     ]
    }
   ],
   "source": [
    "print \"OK\"\n",
    "\n",
    "\"hello\"\n",
    "%load_ext autoreload\n",
    "#%autoreload 2\n",
    "import pandas \n",
    "import pandas as pd \n",
    "import sklearn\n",
    "from backend import db_connection2 as db\n",
    "from backend import db_connection2 \n",
    "import sys"
   ]
  },
  {
   "cell_type": "code",
   "execution_count": 281,
   "metadata": {},
   "outputs": [],
   "source": [
    "conn, meta, session = db.connect(\"postgres\", \"1234\", db=\"match_stick_girl\") #temp2"
   ]
  },
  {
   "cell_type": "code",
   "execution_count": 282,
   "metadata": {},
   "outputs": [],
   "source": [
    "all_text_manipulations=session.query(db.Process_Text_Manipulation).all()\n",
    "\n",
    "#baby_born\n",
    "#babay\n",
    "#rewrite_task2\n",
    "\n",
    "#For all Process Rewrite\n",
    "#For all COntent whose origin id == Process_Rewrite\n",
    "#Where User_ID is > -1 #not null\n",
    "\n",
    "#For process - hash_id process and estimated length \n",
    "#For content compeltion"
   ]
  },
  {
   "cell_type": "code",
   "execution_count": 289,
   "metadata": {},
   "outputs": [
    {
     "name": "stdout",
     "output_type": "stream",
     "text": [
      "20.7272727273\n"
     ]
    }
   ],
   "source": [
    "one_el=all_text_manipulations[0]\n",
    "#one_el=db_connection2.Process_Text_Manipulation\n",
    "#one_el.task_parameters_obj\n",
    "\n",
    "def time_estimate(process):\n",
    "    total_text=\"\"\n",
    "    total_text+=\" \"+process.task_parameters_obj.body_of_task.results\n",
    "    total_text+=\" \"+process.task_parameters_obj.prompt.results\n",
    "    total_text+=\" \"+process.task_parameters_obj.result.results\n",
    "    total_text+=\" \"+process.task_parameters_obj.suggestion.results\n",
    "    total_text+=\" \"+process.task_parameters_obj.context.results\n",
    "    words=len(total_text.split(\" \"))\n",
    "    time = words/ 5.5\n",
    "\n",
    "    return time  \n",
    "\n",
    "print time_estimate(all_text_manipulations[3])"
   ]
  },
  {
   "cell_type": "code",
   "execution_count": 290,
   "metadata": {},
   "outputs": [],
   "source": [
    "#estimate rating score\n",
    "#estimate writing score \n",
    "rating_score_matrix=[]\n",
    "writing_score_matrix=[] #writing score matrix first\n",
    "databases=[\"match_stick_girl\",\"baby_born\",\"babay\"]"
   ]
  },
  {
   "cell_type": "code",
   "execution_count": 291,
   "metadata": {},
   "outputs": [
    {
     "name": "stdout",
     "output_type": "stream",
     "text": [
      " They were very large slippers, which her mother had hitherto worn. so large were they. and the poor little thing lost them as she scuffled away across the street, because of two carriages that rolled by dreadfully fast.\nOne slipper was nowhere to be found. the other had been laid hold of by an urchin, and off he ran with it\nThe 'content to be evaluated' is intended to be a summary of the text below. Rate how well you feel it accurately captures the full meaning and key events. \n4.0\n151.253226\n16.5454545455\nThe mother lost her slippers because they were so big they fell off as she crossed the street as two carriages came by quickly.  An urchin stole one and the other was lost.\nnext\n he thought it would do capitally for a cradle when he some day or other should have children himself. So the little maiden walked on with her tiny naked feet, that were quite red and blue from cold. She carried a quantity of matches in an old apron, and she held a bundle of them in her hand. Nobody had bought anything of her the whole livelong day. no one had given her a single farthing\nThe 'content to be evaluated' is intended to be a summary of the text below. Rate how well you feel it accurately captures the full meaning and key events. \n4.0\n225.045509\n19.4545454545\nif he had children he would get a cradle. the girl walked barefoot in the cold. she had matches in her hand and apron. she did not make a sale.\nnext\n one fell down and formed a long trail of fire.\n\"Someone is just dead!\" said the little girl. for her old grandmother, the only person who had loved her, and who was now no more, had told her, that when a star falls, a soul ascends to God.\nShe drew another match against the wall: it was again light, and in the lustre there stood the old grandmother, so bright and radiant, so mild, and with such an expression of love.\n\"Grandmother!\" cried the little one\nThe 'content to be evaluated' is intended to be a summary of the text below. Rate how well you feel it accurately captures the full meaning and key events. \n4.0\n158.394356\n20.7272727273\nA little girl and her grandmother were standing in the darkness, and she struck some matches against a wall. The little girl saw a meteor falling in the sky and said that falling stars show when someone has died and is ascending to Heaven.\nnext\n It seemed really to the little maiden as though she were sitting before a large iron stove, with burnished brass feet and a brass ornament at top. The fire burned with such blessed influence. it warmed so delightfully. The little girl had already stretched out her feet to warm them too. but--the small flame went out, the stove vanished: she had only the remains of the burnt-out match in her hand"
     ]
    },
    {
     "name": "stdout",
     "output_type": "stream",
     "text": [
      "\nThe 'content to be evaluated' is intended to be a summary of the text below. Rate how well you feel it accurately captures the full meaning and key events. \n3.0\n34.480603\n18.5454545455\nThe girl is cold and is trying to get warm with fire and matches.\nnext\n\nShe rubbed another against the wall: it burned brightly, and where the light fell on the wall, there the wall became transparent like a veil, so that she could see into the room. On the table was spread a snow-white tablecloth. upon it was a splendid porcelain service, and the roast goose was steaming famously with its stuffing of apple and dried plums. And what was still more capital to behold was, the goose hopped down from the dish, reeled about on the floor with knife and fork in its breast, till it came up to the poor little girl. when--the match went out and nothing but the thick, cold, damp wall was left behind\nThe 'content to be evaluated' is intended to be a summary of the text below. Rate how well you feel it accurately captures the full meaning and key events. \n2.0\n223.617794\n26.3636363636\nA small girl rubs a matchstick against a wall to create a hole where she can peer into a fantasy world. In her mind the girl sees a nicely set table but all of a sudden the food comes to life. As the main dish approached her, the matchstick goes out and ghe fwntasy ends.\nnext\n\nShe crept along trembling with cold and hunger--a very picture of sorrow, the poor little thing!\nThe flakes of snow covered her long fair hair, which fell in beautiful curls around her neck. but of that, of course, she never once now thought. From all the windows the candles were gleaming, and it smelt so deliciously of roast goose, for you know it was New Year's Eve. yes, of that she thought.\nIn a corner formed by two houses, of which one advanced more than the other, she seated herself down and cowered together\nThe 'content to be evaluated' is intended to be a summary of the text below. Rate how well you feel it accurately captures the full meaning and key events. \n4.0\n63.687285\n22.1818181818\nA woman is cold and hungry on New Year's Eve\nnext\n Her little feet she had drawn close up to her, but she grew colder and colder, and to go home she did not venture, for she had not sold any matches and could not bring a farthing of money: from her father she would certainly get blows, and at home it was cold too, for above her she had only the roof, through which the wind whistled, even though the largest cracks were stopped up with straw and rags.\nHer little hands were almost numbed with cold. Oh! a match might afford her a world of comfort, if she only dared take a single one out of the bundle, draw it against the wall, and warm her fingers by it. She drew one out. \"Rischt!\" how it blazed, how it burnt! It was a warm, bright flame, like a candle, as she held her hands over it: it was a wonderful light"
     ]
    },
    {
     "name": "stdout",
     "output_type": "stream",
     "text": [
      "\nThe 'content to be evaluated' is intended to be a summary of the text below. Rate how well you feel it accurately captures the full meaning and key events. \n5.0\n125.145003\n33.0909090909\nA poor girl was out on the streets and was very cold. She was selling matches to earn money for her father. She didn't want to go home because she hadn't sold any matches so her father would beat her. She knew she shouldn't use the matches but she takes one out and lights it. She enjoys its warmth.\nnext\nMost terribly cold it was. it snowed, and was nearly quite dark, and evening-- the last evening of the year. In this cold and darkness there went along the street a poor little girl, bareheaded, and with naked feet. When she left home she had slippers on, it is true. but what was the good of that\nThe 'content to be evaluated' is intended to be a summary of the text below. Rate how well you feel it accurately captures the full meaning and key events. \n4.0\n66.679439\n15.8181818182\nIt was snowy, dark and toward the end of the day on New Year's Eve. A poor girl on the streets left home.\nnext\nA woman is cold and hungry on New Year's Eve\nLooking at the text BELOW and the text on the LEFT, please rate how well 'content to be evaluate' incorporates them both into a single summary\n4.0\n60.857594\n19.2727272727\nIt was a cold New Year's Eve. A poor woman was out on the streets and was very cold. She was selling matches to earn money for her father. She didn't want to go home because she hadn't sold any matches so her father would beat her. She knew she shouldn't use the matches but she takes one out and lights it. She enjoys its warmth.\nnext\n Stiff and stark sat the child there with her matches, of which one bundle had been burnt. \"She wanted to warm herself,\" people said. No one had the slightest suspicion of what beautiful things she had seen. no one even dreamed of the splendor in which, with her grandmother she had entered on the joys of a new year."
     ]
    },
    {
     "name": "stdout",
     "output_type": "stream",
     "text": [
      "\nThe 'content to be evaluated' is intended to be a summary of the text below. Rate how well you feel it accurately captures the full meaning and key events. \n1.0\n87.587593\n16.3636363636\nShe sat there with her matches, an entire bundle burnt. People just said, \"She wanted to warm herself.\" But no one really knew what she had seen and no one could ever dream of the splendor in which, with her grandmother, she had entered into a new year.\nnext\n \"Oh, take me with you! You go away when the match burns out. you vanish like the warm stove, like the delicious roast goose, and like the magnificent Christmas tree!\" And she rubbed the whole bundle of matches quickly against the wall, for she wanted to be quite sure of keeping her grandmother near her. And the matches gave such a brilliant light that it was brighter than at noon-day: never formerly had the grandmother been so beautiful and so tall. She took the little maiden, on her arm, and both flew in brightness and in joy so high, so very high, and then above was neither cold, nor hunger, nor anxiety--they were with God.\nBut in the corner, at the cold hour of dawn, sat the poor girl, with rosy cheeks and with a smiling mouth, leaning against the wall--frozen to death on the last evening of the old year\nThe 'content to be evaluated' is intended to be a summary of the text below. Rate how well you feel it accurately captures the full meaning and key events. \n4.0\n258.777613\n32.9090909091\nShe died of cold on new years eve, burning the last of her matches and imagining her grandmother flying her to be with god.\nnext\nIt was snowy, dark and toward the end of the day on New Year's Eve. A poor girl on the streets left home.\nLooking at the text BELOW and the text on the LEFT, please rate how well 'content to be evaluate' incorporates them both into a single summary\n3.6\n166.913433\n17.0909090909\nIt was a dark, snowy evening on New Year's Eve. A girl had ran away from home and was left on the street. Fortunately, her mother had found her and snatched her up, carrying her back the long way home. Her feet were freezing, though. The mother lost her slippers because they were too big and had fallen off while crossing the street. Two carriages came by quickly, and an urchin stole one and the other was lost.\nnext\nA woman is cold and hungry on New Year's Eve"
     ]
    },
    {
     "name": "stdout",
     "output_type": "stream",
     "text": [
      "\nLooking at the text BELOW and the text on the LEFT, please rate how well 'content to be evaluate' incorporates them both into a single summary\n3.0\n116.262802\n19.2727272727\nA cold and hungry woman was out on the streets on New Years Eve. She was selling matches to earn money for her father. But she hadn't sold any matches and didn't want to go home because her father would beat her. She knew that she shouldn't waste the matches but she lit one anyway, enjoying the small warmth it brings.\nnext\nIt was snowy, dark and toward the end of the day on New Year's Eve. A poor girl on the streets left home.\nLooking at the text BELOW and the text on the LEFT, please rate how well 'content to be evaluate' incorporates them both into a single summary\n1.8\n111.348442\n17.0909090909\nOn a dark and snowy evening, a poor girl left her home to wander the streets. It was New Year's Eve and her mother was concerned that the girl would freeze to death. The family did not have enough money to buy very many things so the only footwear the mother had was a pair of slippers that were too big. She hurriedly put them on and rushed out into the snow to find her daughter. As she was crossing the street between two carriages, she lost her slippers, but she was determined to find her daughter so she continued on. A street urchin stole one slipper and the other was lost in the snow. \nnext\nIt was snowy, dark and toward the end of the day on New Year's Eve. A poor girl on the streets left home.\nLooking at the text BELOW and the text on the LEFT, please rate how well 'content to be evaluate' incorporates them both into a single summary\n2.0\n34.944671\n17.0909090909\nA poor girl left home on a snowy and dark day on New Year's Eve\nnext\nIt was snowy, dark and toward the end of the day on New Year's Eve. A poor girl on the streets left home.\nLooking at the text BELOW and the text on the LEFT, please rate how well 'content to be evaluate' incorporates them both into a single summary\n1.8\n39.711133\n17.0909090909\nSnowy and dark towards the night as horses roam with carragies on the street.\nnext\nA woman is cold and hungry on New Year's Eve\nLooking at the text BELOW and the text on the LEFT, please rate how well 'content to be evaluate' incorporates them both into a single summary\n2.0\n35.922002\n19.2727272727\nA cold and hungry woman, out of fear, sells matches on the street.\nnext\nA woman is cold and hungry on New Year's Eve"
     ]
    },
    {
     "name": "stdout",
     "output_type": "stream",
     "text": [
      "\nLooking at the text BELOW and the text on the LEFT, please rate how well 'content to be evaluate' incorporates them both into a single summary\n2.2\n33.61743\n19.2727272727\nA cold hungry woman was out on the streets on New Years Eve and she saw a poor girl selling matches. The young girl didn't want to go home because she hadn't sold any matches. She began using the matches to keep warm. \nnext\n She lighted another match. Now there she was sitting under the most magnificent Christmas tree: it was still larger, and more decorated than the one which she had seen through the glass door in the rich merchant's house.\nThousands of lights were burning on the green branches, and gaily-colored pictures, such as she had seen in the shop-windows, looked down upon her. The little maiden stretched out her hands towards them when--the match went out. The lights of the Christmas tree rose higher and higher, she saw them now as stars in heaven\nThe 'content to be evaluated' is intended to be a summary of the text below. Rate how well you feel it accurately captures the full meaning and key events. \n3.0\n43.389581\n22.3636363636\nA little match girl was poor and freezing on the streets. She imagined that she was somewhere warm surrounded by lights, warmth, and love. She imagined seeing a maiden reaching towards her and she grabbed her hand and followed her into the heavens. She died believing she was warm and loved. \nnext\nShe died of cold on new years eve, burning the last of her matches and imagining her grandmother flying her to be with god.\nLooking at the text BELOW and the text on the LEFT, please rate how well 'content to be evaluate' incorporates them both into a single summary\n2.6\n23.182335\n19.8181818182\nA little girl couldn't burn the matches she was selling to keep warm and died dreaming of her grandmother and warmth. \nnext\nShe died of cold on new years eve, burning the last of her matches and imagining her grandmother flying her to be with god.\nLooking at the text BELOW and the text on the LEFT, please rate how well 'content to be evaluate' incorporates them both into a single summary\n3.8\n142.079796\n19.8181818182\nWith the few remaining matche's in her  hands, she caught her last breath if her as the cold fingers of darkness grasped her Inner self. She thought of the kind hearted grandmother she had always loved, andrepeated herself for the wonderful journey that she was about to embark on in another place above.\nnext\nShe died of cold on new years eve, burning the last of her matches and imagining her grandmother flying her to be with god."
     ]
    },
    {
     "name": "stdout",
     "output_type": "stream",
     "text": [
      "\nLooking at the text BELOW and the text on the LEFT, please rate how well 'content to be evaluate' incorporates them both into a single summary\n3.6\n56.87475\n19.8181818182\nHer matches were spent.  Still, she looks towards the future and unknown space.\nnext\nif he had children he would get a cradle. the girl walked barefoot in the cold. she had matches in her hand and apron. she did not make a sale.\nLooking at the text BELOW and the text on the LEFT, please rate how well 'content to be evaluate' incorporates them both into a single summary\n2.8\n24.013624\n24.1818181818\nit was New Year's Eve and the girl walked outside full of fear.\nnext\nif he had children he would get a cradle. the girl walked barefoot in the cold. she had matches in her hand and apron. she did not make a sale.\nLooking at the text BELOW and the text on the LEFT, please rate how well 'content to be evaluate' incorporates them both into a single summary\n2.0\n32.523402\n24.1818181818\nif he had children he would get a cradle. the girl walked barefoot in the cold. she had matches in her hand and apron. she did not make a sale.\nnext\nShe died of cold on new years eve, burning the last of her matches and imagining her grandmother flying her to be with god.\nLooking at the text BELOW and the text on the LEFT, please rate how well 'content to be evaluate' incorporates them both into a single summary\n4.0\n120.761995\n19.8181818182\nShe sat there with her matches, entire bundle burnt and imagining her grandmother flying her to be with God. People said she wanted to warm herself and no one knew what she had seen. She died cold on news year eve. \nnext\nA small girl rubs a matchstick against a wall to create a hole where she can peer into a fantasy world. In her mind the girl sees a nicely set table but all of a sudden the food comes to life. As the main dish approached her, the matchstick goes out and ghe fwntasy ends."
     ]
    },
    {
     "name": "stdout",
     "output_type": "stream",
     "text": [
      "\nLooking at the text BELOW and the text on the LEFT, please rate how well 'content to be evaluate' incorporates them both into a single summary\n3.4\n186.679379\n26.1818181818\nA little girl, poor and out in the cold night air, lite a match to keep warm. She closed her eyes and  imagined herself in a world of food and warmth.  The food came alive and approached her. As it neared the match blew out. She opened her eyes and her fantasy ended. \nnext\nA small girl rubs a matchstick against a wall to create a hole where she can peer into a fantasy world. In her mind the girl sees a nicely set table but all of a sudden the food comes to life. As the main dish approached her, the matchstick goes out and ghe fwntasy ends.\nLooking at the text BELOW and the text on the LEFT, please rate how well 'content to be evaluate' incorporates them both into a single summary\n1.8\n17.408962\n26.1818181818\nA girl in rough conditions imagines herself in a new world. \nnext\nif he had children he would get a cradle. the girl walked barefoot in the cold. she had matches in her hand and apron. she did not make a sale.\nLooking at the text BELOW and the text on the LEFT, please rate how well 'content to be evaluate' incorporates them both into a single summary\n3.4\n129.098679\n24.1818181818\nOn New Year's Eve a poor female was on the streets selling matches for money to give her father. She hadn't made a sale, was cold but decided to stay out as her father would beat her if she came home with no money. She lights a match to stay warm.\nnext\nA small girl rubs a matchstick against a wall to create a hole where she can peer into a fantasy world. In her mind the girl sees a nicely set table but all of a sudden the food comes to life. As the main dish approached her, the matchstick goes out and ghe fwntasy ends.\nLooking at the text BELOW and the text on the LEFT, please rate how well 'content to be evaluate' incorporates them both into a single summary\n3.6\n71.129283\n26.1818181818\nA little match girl was poor and freezing on the street. She rubs a matchstick on the wall to create a hole where she can peer into a fantasy world surrounded by lights. warmth and love. She imagined seeing a maiden reaching towards her and she grabbed her hand and followed her into the heavens. In her mind the girl sees a nicely set table but all of a sudden the food comes to life. As the main dish approached her, the matchstick goes out and ghe fantasy ends\nnext\nif he had children he would get a cradle. the girl walked barefoot in the cold. she had matches in her hand and apron. she did not make a sale."
     ]
    },
    {
     "name": "stdout",
     "output_type": "stream",
     "text": [
      "\nLooking at the text BELOW and the text on the LEFT, please rate how well 'content to be evaluate' incorporates them both into a single summary\n2.2\n47.561185\n24.1818181818\nA girl walks barefoot in the cold and A poor woman walks the streets on New Year's Eve.\nnext\nA small girl rubs a matchstick against a wall to create a hole where she can peer into a fantasy world. In her mind the girl sees a nicely set table but all of a sudden the food comes to life. As the main dish approached her, the matchstick goes out and ghe fwntasy ends.\nLooking at the text BELOW and the text on the LEFT, please rate how well 'content to be evaluate' incorporates them both into a single summary\n2.0\n34.827923\n26.1818181818\nA small girl uses her imagination to see a fantasy world and a girl who is cold and walking the streets imagines she is somewhere warm. \nnext\nA little girl and her grandmother were standing in the darkness, and she struck some matches against a wall. The little girl saw a meteor falling in the sky and said that falling stars show when someone has died and is ascending to Heaven.\nLooking at the text BELOW and the text on the LEFT, please rate how well 'content to be evaluate' incorporates them both into a single summary\n2.4\n48.070222\n22.3636363636\nA little girl strikes a match and sees a meteor fall from the sky. A girl imagined her dead grandmother flying with god. \nnext\nA little girl and her grandmother were standing in the darkness, and she struck some matches against a wall. The little girl saw a meteor falling in the sky and said that falling stars show when someone has died and is ascending to Heaven.\nLooking at the text BELOW and the text on the LEFT, please rate how well 'content to be evaluate' incorporates them both into a single summary\n4.0\n333.725631\n22.3636363636\nA little girl and her grandmother were standing in the darkness.  She struck some of the matches against the wall.  The little girl witnessed a meteor falling across the sky and remembered that falling stars show when someone has passed and is ascending to Heaven.  With her entire match bundle burnt and laying at her feet, she imagined herself flying with her grandmother to see God.  When they found her, the people thought she must have tried to keep warm with all the burnt matches at her feet.  The little girl died that night. It was a cold New Years Eve.\nnext\nA little girl and her grandmother were standing in the darkness, and she struck some matches against a wall. The little girl saw a meteor falling in the sky and said that falling stars show when someone has died and is ascending to Heaven."
     ]
    },
    {
     "name": "stdout",
     "output_type": "stream",
     "text": [
      "\nLooking at the text BELOW and the text on the LEFT, please rate how well 'content to be evaluate' incorporates them both into a single summary\n4.2\n163.470809\n22.3636363636\nA little girl strikes some matches against the wall as she stands in the darkness with her grandmother. As she watched a meteor fall in the sky she noted that falling stars happen when someone has gone to heaven. She sat with her burnt bundle of matches and imagined her grandmother flying her to be with God. Not knowing what she had seen in her last moments people assumed that she had died trying to stay warm with those matches on that cold new years eve.\nnext\nIt was a dark, snowy evening on New Year's Eve. A girl had ran away from home and was left on the street. Fortunately, her mother had found her and snatched her up, carrying her back the long way home. Her feet were freezing, though. The mother lost her slippers because they were too big and had fallen off while crossing the street. Two carriages came by quickly, and an urchin stole one and the other was lost.\nLooking at the text BELOW and the text on the LEFT, please rate how well 'content to be evaluate' incorporates them both into a single summary\n4.8\n154.9308\n30.1818181818\nOn a dark, snowy new years eve a little girl stands on the street trying to sell matches. Even though she is cold, she cannot go home without money to give her father because he will beat her. The girls mother finds her and begins to carry her the long way home, even though her feet are bare, having lost her slippers while crossing the street.\nnext\nThe girl is cold and is trying to get warm with fire and matches.\nLooking at the text BELOW and the text on the LEFT, please rate how well 'content to be evaluate' incorporates them both into a single summary\n3.6\n199.095615\n25.4545454545\nA small girl, who was poor, was on the street freezing cold. She used the matchsticks she found on the street to stay warm, and in that light, she could see a magical hole where everything felt fantasy like. It made everything feel warm and welcoming. She saw a woman reaching her hand towards her, to which she grabbed the hand and followed her straight into the heavens. In her fantasy, the little girl sees a large table, but then the food flourishes to life. The main course approaches slowly, but then her match extinguishes and the fantasy ceases to exist.\nnext\nA little girl and her grandmother were standing in the darkness, and she struck some matches against a wall. The little girl saw a meteor falling in the sky and said that falling stars show when someone has died and is ascending to Heaven."
     ]
    },
    {
     "name": "stdout",
     "output_type": "stream",
     "text": [
      "\nLooking at the text BELOW and the text on the LEFT, please rate how well 'content to be evaluate' incorporates them both into a single summary\n2.6\n116.663798\n22.3636363636\nthe little girl and her grandmother was in the dark and saw a metor fall in the sky\nnext\nIt was a dark, snowy evening on New Year's Eve. A girl had ran away from home and was left on the street. Fortunately, her mother had found her and snatched her up, carrying her back the long way home. Her feet were freezing, though. The mother lost her slippers because they were too big and had fallen off while crossing the street. Two carriages came by quickly, and an urchin stole one and the other was lost.\nLooking at the text BELOW and the text on the LEFT, please rate how well 'content to be evaluate' incorporates them both into a single summary\n3.4\n111.54514\n30.1818181818\nA little girl went missing after she went to sell matches. She was too afraid to return home, so stayed out in the cold to try to earn the money needed. Her mother frantically searched for her daughter in the cold, finally found her but in a hurry lost her slippers. They both were freezing.\nnext\nThe girl is cold and is trying to get warm with fire and matches.\nLooking at the text BELOW and the text on the LEFT, please rate how well 'content to be evaluate' incorporates them both into a single summary\n1.4\n22.898688\n25.4545454545\na girl was cold and wrm ed up with matches \nnext\nIt was a dark, snowy evening on New Year's Eve. A girl had ran away from home and was left on the street. Fortunately, her mother had found her and snatched her up, carrying her back the long way home. Her feet were freezing, though. The mother lost her slippers because they were too big and had fallen off while crossing the street. Two carriages came by quickly, and an urchin stole one and the other was lost.\nLooking at the text BELOW and the text on the LEFT, please rate how well 'content to be evaluate' incorporates them both into a single summary\n3.2\n336.426654\n30.1818181818\nThere was a girl that ran from home and was selling matches on the street to give the money to her father. Her mother frantically looked for her daughter and found her selling the matches. Her mother snatched her up but the daughter told her mother that she was afraid her father would beat her if she didn't sell the matches. Her mom and her were freezing and on the way home her mother lost her slippers crossing the street. When they got home they lit a match to get warm.\nnext\nIt was a dark, snowy evening on New Year's Eve. A girl had ran away from home and was left on the street. Fortunately, her mother had found her and snatched her up, carrying her back the long way home. Her feet were freezing, though. The mother lost her slippers because they were too big and had fallen off while crossing the street. Two carriages came by quickly, and an urchin stole one and the other was lost."
     ]
    },
    {
     "name": "stdout",
     "output_type": "stream",
     "text": [
      "\nLooking at the text BELOW and the text on the LEFT, please rate how well 'content to be evaluate' incorporates them both into a single summary\n3.8\n194.317071\n30.1818181818\nOn a cold New Year's Eve, a girl ran away from home to sell matches on the street. She was going to give the money to her father. She had just lit a match to stay warm when her mother found her. She had been out looking for her. Her mother grabbed her and carried her back home, even though she was missing her slippers because they had fallen off. \nnext\nThe girl is cold and is trying to get warm with fire and matches.\nLooking at the text BELOW and the text on the LEFT, please rate how well 'content to be evaluate' incorporates them both into a single summary\n2.2\n112.040186\n25.4545454545\nThe girl was freezing, and is trying to use a match to get warm. She peers into the light of the match and creates a fantasy where she is warm and well fed. However, the match goes out and the fantasy is gone.\nnext\nThe girl is cold and is trying to get warm with fire and matches.\nLooking at the text BELOW and the text on the LEFT, please rate how well 'content to be evaluate' incorporates them both into a single summary\n1.4\n217.678668\n25.4545454545\nTwo girls are very could and are trying to get warm. The weather seems to be almost freezing temperature \nnext\nA small girl, who was poor, was on the street freezing cold. She used the matchsticks she found on the street to stay warm, and in that light, she could see a magical hole where everything felt fantasy like. It made everything feel warm and welcoming. She saw a woman reaching her hand towards her, to which she grabbed the hand and followed her straight into the heavens. In her fantasy, the little girl sees a large table, but then the food flourishes to life. The main course approaches slowly, but then her match extinguishes and the fantasy ceases to exist.\nLooking at the text BELOW and the text on the LEFT, please rate how well 'content to be evaluate' incorporates them both into a single summary\n3.6\n112.621951\n40.7272727273\nA poor girl stands in the street with her grandmother and lights a match to stay warm. She is transported to a fantasy world that is not unlike heaven where she is reunited with her grandmother. Maybe the match goes out and she's back where she was, but maybe she died that night. \nnext\nA small girl, who was poor, was on the street freezing cold. She used the matchsticks she found on the street to stay warm, and in that light, she could see a magical hole where everything felt fantasy like. It made everything feel warm and welcoming. She saw a woman reaching her hand towards her, to which she grabbed the hand and followed her straight into the heavens. In her fantasy, the little girl sees a large table, but then the food flourishes to life. The main course approaches slowly, but then her match extinguishes and the fantasy ceases to exist."
     ]
    },
    {
     "name": "stdout",
     "output_type": "stream",
     "text": [
      "\nLooking at the text BELOW and the text on the LEFT, please rate how well 'content to be evaluate' incorporates them both into a single summary\n2.4\n113.778215\n40.7272727273\nA young girl is in the freezing cold with her grandmother looking at the stars and thinking of heaven. She strikes a match, and sees a fantasy world where she is warm and in heaven. She imagines her grandmother going up to heaven, and following her there. Then the fantasy ends.\nnext\nA small girl, who was poor, was on the street freezing cold. She used the matchsticks she found on the street to stay warm, and in that light, she could see a magical hole where everything felt fantasy like. It made everything feel warm and welcoming. She saw a woman reaching her hand towards her, to which she grabbed the hand and followed her straight into the heavens. In her fantasy, the little girl sees a large table, but then the food flourishes to life. The main course approaches slowly, but then her match extinguishes and the fantasy ceases to exist.\nLooking at the text BELOW and the text on the LEFT, please rate how well 'content to be evaluate' incorporates them both into a single summary\n1.6\n171.965311\n40.7272727273\nA poor young girl shivered on the dark street. She lit a match to stay warm as she watched the stars falling. She imagined her late grandmother waving from Heaven. She fantasized about a vibrant feast. Her soul ascended to the table.\nnext\nA small girl, who was poor, was on the street freezing cold. She used the matchsticks she found on the street to stay warm, and in that light, she could see a magical hole where everything felt fantasy like. It made everything feel warm and welcoming. She saw a woman reaching her hand towards her, to which she grabbed the hand and followed her straight into the heavens. In her fantasy, the little girl sees a large table, but then the food flourishes to life. The main course approaches slowly, but then her match extinguishes and the fantasy ceases to exist.\nLooking at the text BELOW and the text on the LEFT, please rate how well 'content to be evaluate' incorporates them both into a single summary\n3.8\n19.669495\n40.7272727273\nA small girl, who was poor, was on the street freezing cold. She used the matchsticks she found on the street to stay warm, and in that light,\nnext\nOn a dark, snowy new years eve a little girl stands on the street trying to sell matches. Even though she is cold, she cannot go home without money to give her father because he will beat her. The girls mother finds her and begins to carry her the long way home, even though her feet are bare, having lost her slippers while crossing the street.\nLooking at the text BELOW and the text on the LEFT, please rate how well 'content to be evaluate' incorporates them both into a single summary\n2.2\n261.270081\n23.8181818182\nOn a dark, snowy new years eve A small little girl, who was poor,  was on the street freezing cold trying to sell matches.  She used the matchsticks she found on the street to stay warm, and in that light shercannot go hom without money to give her fatherbecause he will beat her.  The girls mother finds her and begins to carry her the long way home, even though her feet are bare, having lost her slippers while crossing the street.\nnext\nI work for a small business that provides home health care. As you can imagine, I depend on my vehicle to get to my clients' homes.My care recently broke down and is goign to cost me about $600. I've turned everywhere. The bank, credit cards, installment loans, familyfriends, etc. all have been denied. I have nowhere else to turn and I'm running out of options and money. I'm depending on my friend'scar to get to work but that option is running low as well. Am I in a position to ask my manager (owner of the company) for an advance to helpme pay for the repairs"
     ]
    },
    {
     "name": "stdout",
     "output_type": "stream",
     "text": [
      "\nRate how well the meaning of the text was captured\n4.33333333333\n54.567326\n22.9090909091\nI work for a small business that provides home health care. My car recently broke down and is going to cost me about $600. I've turned everywhere.  I have nowhere else to turn and I'm running out of options and money. I'm depending on my friend'scar to get to work but that option is running low as well. Am I in a position to ask my manager (owner of the company) for an advance to help me pay for the repairs?\nnext\nI work for a small business that provides home health care. As you can imagine, I depend on my vehicle to get to my clients' homes.My care recently broke down and is goign to cost me about $600. I've turned everywhere. The bank, credit cards, installment loans, familyfriends, etc. all have been denied. I have nowhere else to turn and I'm running out of options and money. I'm depending on my friend'scar to get to work but that option is running low as well. Am I in a position to ask my manager (owner of the company) for an advance to helpme pay for the repairs\nRate how well the meaning of the text was captured\n0.0\n74.440594\n22.9090909091\nThis guy's car broke down and it is causing a problem for him to do his job.\nnext\nI work for a small business that provides home health care. As you can imagine, I depend on my vehicle to get to my clients' homes.My care recently broke down and is goign to cost me about $600. I've turned everywhere. The bank, credit cards, installment loans, familyfriends, etc. all have been denied. I have nowhere else to turn and I'm running out of options and money. I'm depending on my friend'scar to get to work but that option is running low as well. Am I in a position to ask my manager (owner of the company) for an advance to helpme pay for the repairs\nRate how well the meaning of the text was captured\n4.0\n152.877018\n22.9090909091\nProbably the only option available. Offer to pay it back over the next month or work extra hours off the clock. Bad credit causes this to happen and I was in the same situation but my employer was willing to help me fortunately. It's a hard spot to be in though.\nnext\nI work for a small business that provides home health care. As you can imagine, I depend on my vehicle to get to my clients' homes.My care recently broke down and is goign to cost me about $600. I've turned everywhere. The bank, credit cards, installment loans, familyfriends, etc. all have been denied. I have nowhere else to turn and I'm running out of options and money. I'm depending on my friend'scar to get to work but that option is running low as well. Am I in a position to ask my manager (owner of the company) for an advance to helpme pay for the repairs\nRate how well the meaning of the text was captured\n3.0\n192.509983\n22.9090909091\nI work for a small business that provides home health care. As you can imagine, I depend on my vehicle to get to my clients' homes.My car recently broke down and will to cost me about $600 for repairs. I've turned everywhere. The bank, credit cards, installment loans, family, friends, etc. all have denied my plea for help. I have nowhere else to turn, and I'm running out of options and money. I'm depending on my friend's car to get to work but that option is running low as well. I wonder if I could ask my manager (owner of the company) for an advance to help me pay for the repairs.\nnext\nMy 'adult' 23-year-old son is home for the holidays. He leads a more liberal lifestyle than my husband and me, and suffice it to say not only do our politics not match up, but neither do our hygiene practices. To be blunt, his body order is killing us! I didn't raise him this way and I absolutely can't stand it. I just can't embrace not showering daily and not using a daily dose of antiperspirant. How do you address an awkward and difficult topic with a person who is also awkward, sensitive and difficult?"
     ]
    },
    {
     "name": "stdout",
     "output_type": "stream",
     "text": [
      "\nRate how well the ideas listed below would improve the content\n4.33333333333\n54.367343\n23.2727272727\nMy son has disregard for body hygiene \nnext\nMy 'adult' 23-year-old son is home for the holidays. He leads a more liberal lifestyle than my husband and me, and suffice it to say not only do our politics not match up, but neither do our hygiene practices. To be blunt, his body order is killing us! I didn't raise him this way and I absolutely can't stand it. I just can't embrace not showering daily and not using a daily dose of antiperspirant. How do you address an awkward and difficult topic with a person who is also awkward, sensitive and difficult?\nRate how well the ideas listed below would improve the content\n4.33333333333\n192.540071\n23.2727272727\nIt is time for a gentle conversation. This can be done with patience and tact.\nInform your son that there are house rules and one of them is proper hygiene.\nGive your son a stick of deodorant and ask him to use it.\nnext\nMy 'adult' 23-year-old son is home for the holidays. He leads a more liberal lifestyle than my husband and me, and suffice it to say not only do our politics not match up, but neither do our hygiene practices. To be blunt, his body order is killing us! I didn't raise him this way and I absolutely can't stand it. I just can't embrace not showering daily and not using a daily dose of antiperspirant. How do you address an awkward and difficult topic with a person who is also awkward, sensitive and difficult?\nRate how well the ideas listed below would improve the content\n2.66666666667\n63.760022\n23.2727272727\nYou pull up an article about personal hygiene on your computer screen and leave it up so that he sees it as he walks by.\nnext\nMy 'adult' 23-year-old son is home for the holidays. He leads a more liberal lifestyle than my husband and me, and suffice it to say not only do our politics not match up, but neither do our hygiene practices. To be blunt, his body order is killing us! I didn't raise him this way and I absolutely can't stand it. I just can't embrace not showering daily and not using a daily dose of antiperspirant. How do you address an awkward and difficult topic with a person who is also awkward, sensitive and difficult?\nRate how well the ideas listed below would improve the content\n4.66666666667\n119.715557\n23.2727272727\nThis is an easy one. Just sit down with him and tell him in a polite manner that he stinks and that he needs to wear something. Just leave it at that and then he will do what he does. Be nice and do not try to force the outcome. \n\nThis would help cause it places emphasis on attitude, which is very important when talking about sensitive issues. \nnext\nI work for a small business that provides home health care. My car recently broke down and is going to cost me about $600. I've turned everywhere.  I have nowhere else to turn and I'm running out of options and money. I'm depending on my friend'scar to get to work but that option is running low as well. Am I in a position to ask my manager (owner of the company) for an advance to help me pay for the repairs?"
     ]
    },
    {
     "name": "stdout",
     "output_type": "stream",
     "text": [
      "\nRate how well the text handles the issue or question\n1.33333333333\n65.43921\n18.1818181818\nA man works for a small business. His car broke. Now he is looking for other options to get to the work place. Or to repair his current car.\nnext\nI work for a small business that provides home health care. My car recently broke down and is going to cost me about $600. I've turned everywhere.  I have nowhere else to turn and I'm running out of options and money. I'm depending on my friend'scar to get to work but that option is running low as well. Am I in a position to ask my manager (owner of the company) for an advance to help me pay for the repairs?\nRate how well the text handles the issue or question\n4.0\n318.430471\n18.1818181818\nSince you work for a small business they might not be able to help with an advance to get the repairs on your car done. You could ask if that is an option or if they can recommend a shop that will cost less for the repairs. There is also the possibility of asking for extra shifts to cover the cost. Look into taking the bus to and from work until you can get the car repaired.\nnext\nI work for a small business that provides home health care. My car recently broke down and is going to cost me about $600. I've turned everywhere.  I have nowhere else to turn and I'm running out of options and money. I'm depending on my friend'scar to get to work but that option is running low as well. Am I in a position to ask my manager (owner of the company) for an advance to help me pay for the repairs?\nRate how well the text handles the issue or question\n4.33333333333\n180.061227\n18.1818181818\nI would ask your manager for an advance. It might help to offer to do extra work for the advance. If you explain the situation they might offer to help you out in order to do your job. Or they might offer to pay for a taxi or uber to help you get to work until you can get your car fixed.\nnext\nI work for a small business that provides home health care. My car recently broke down and is going to cost me about $600. I've turned everywhere.  I have nowhere else to turn and I'm running out of options and money. I'm depending on my friend'scar to get to work but that option is running low as well. Am I in a position to ask my manager (owner of the company) for an advance to help me pay for the repairs?\nRate how well the text handles the issue or question\n2.66666666667\n34.966867\n18.1818181818\nI think you should. You're a good employee so try it.\nnext\nMy 'adult' 23-year-old son is home for the holidays. He leads a more liberal lifestyle than my husband and me, and suffice it to say not only do our politics not match up, but neither do our hygiene practices. To be blunt, his body order is killing us! I didn't raise him this way and I absolutely can't stand it. I just can't embrace not showering daily and not using a daily dose of antiperspirant. How do you address an awkward and difficult topic with a person who is also awkward, sensitive and difficult?"
     ]
    },
    {
     "name": "stdout",
     "output_type": "stream",
     "text": [
      "\nRate how well the text below improves and expands the content. Uses the suggestions and context to help inform you\n4.0\n85.844805\n34.5454545455\nI'm sorry to bring this up to you but people have been complaining about your body odor.  Could you perhaps shower and use some deodorant on a daily basis?  At least when you are visiting us.\n\nLove,\n\nYour Aunt\nnext\nMy 'adult' 23-year-old son is home for the holidays. He leads a more liberal lifestyle than my husband and me, and suffice it to say not only do our politics not match up, but neither do our hygiene practices. To be blunt, his body order is killing us! I didn't raise him this way and I absolutely can't stand it. I just can't embrace not showering daily and not using a daily dose of antiperspirant. How do you address an awkward and difficult topic with a person who is also awkward, sensitive and difficult?\nRate how well the text below improves and expands the content. Uses the suggestions and context to help inform you\n4.0\n269.665016\n34.5454545455\nIf I were the parent in this situation, I would buy a gift of a hygiene kit. I would include things like great smelling soaps, natural deodorants, ad some great smelling cologne. I would include a nice, polite note encouraging him to be his best and use the kit while staying in my home.\nnext\nMy 'adult' 23-year-old son is home for the holidays. He leads a more liberal lifestyle than my husband and me, and suffice it to say not only do our politics not match up, but neither do our hygiene practices. To be blunt, his body order is killing us! I didn't raise him this way and I absolutely can't stand it. I just can't embrace not showering daily and not using a daily dose of antiperspirant. How do you address an awkward and difficult topic with a person who is also awkward, sensitive and difficult?\nRate how well the text below improves and expands the content. Uses the suggestions and context to help inform you\n4.0\n101.126537\n34.5454545455\nI would say just tell him how you feel and tell him it would be best to take care of his hygiene\nnext\nMy 'adult' 23-year-old son is home for the holidays. He leads a more liberal lifestyle than my husband and me, and suffice it to say not only do our politics not match up, but neither do our hygiene practices. To be blunt, his body order is killing us! I didn't raise him this way and I absolutely can't stand it. I just can't embrace not showering daily and not using a daily dose of antiperspirant. How do you address an awkward and difficult topic with a person who is also awkward, sensitive and difficult?\nRate how well the text below improves and expands the content. Uses the suggestions and context to help inform you\n2.66666666667\n122.196857\n34.5454545455\nI think that it is important to allow people to be themselves. If that means you son wants to live the way that he does, then let him. This is not an issue that you should be confronting him about. Now if it were actually hurting you physically or making the people around him actually sick then that would be a different story.\nnext\nif you're the one person with a job that signals that you start with , then you should be able to do all done well"
     ]
    },
    {
     "name": "stdout",
     "output_type": "stream",
     "text": [
      "\nRate how well the the text incorporates the style of the text below and the content of 'context'\n2.0\n223.45524\n23.4545454545\nI would ask your manager for an advance to help pay for your car.  To increase a positive response, I would offer to do extra work.  Also, explain your situation.  Maybe they will offer to help you out in order to perform your job or they may offer to pay for a taxi or Uber so you can get to work until your car is fixed.\nnext\nif you're the one person with a job that signals that you start with , then you should be able to do all done well\nRate how well the the text incorporates the style of the text below and the content of 'context'\n0.333333333333\n20.632951\n23.4545454545\nThis is not working properly cannot complete.\nnext\nif you're the one person with a job that signals that you start with , then you should be able to do all done well\nRate how well the the text incorporates the style of the text below and the content of 'context'\n4.0\n213.567411\n23.4545454545\nIf you need money for a car repair you could ask your manager for an advance. You might offer to do extra work or work extra hours to compensate for the advance. If you explain that you need the car to get to and from work they might offer to help you out as it would benefit them as well. They may even offer to pay for a taxi or Uber for transportation to and from work until your car is fixed. \nnext\nif you're the one person with a job that signals that you start with , then you should be able to do all done well\nRate how well the the text incorporates the style of the text below and the content of 'context'\n3.66666666667\n124.77503\n23.4545454545\nI need an advance because my car needs to be fixed. I will work extra hours in order to make up for it.\nnext\nThis year, you grew to be taller than me. I didn't know that would happen so soon. I have such mixed feelings about the man you are becoming. I am so proud of you for being smart and loving and courageous. But I'm not ready for you to be so grown up already. I see the little boys wearing clothes that you wore not so long ago and I remember you as a small child. "
     ]
    },
    {
     "name": "stdout",
     "output_type": "stream",
     "text": [
      "\nRate how well the the text below better matches the suggestions and concepts written and described on the left\n3.33333333333\n108.588307\n40.0\nThis year, you grew to be taller tan me. I didn't know that would happen so soon. I have such mixed feeling about the man you are becoming. Unfortunately, growing up comes with some consequences: growing up means we start to stink a bit more. I think it would be best if you and I start wearing something that will help with that. Don't you think so? I am so proud of you for being smart and loving and courageous. But I'm not ready for you to be so grown up already. I see the little boys wearing clothes that you wore not so long ago and I remember you as a small child.\nnext\nThis year, you grew to be taller than me. I didn't know that would happen so soon. I have such mixed feelings about the man you are becoming. I am so proud of you for being smart and loving and courageous. But I'm not ready for you to be so grown up already. I see the little boys wearing clothes that you wore not so long ago and I remember you as a small child. \nRate how well the the text below better matches the suggestions and concepts written and described on the left\n3.66666666667\n172.572287\n40.0\nThis year, you grew to be taller than me. I didn't know that would happen. But I have such mixed feelings about the man you are becoming. I am so proud of you being smart and loving,  but people have been complaining about your body odor. I'm not ready for you to be so grown, but I think you could could perhaps shower and use some deodorant. At least when you're visiting us,\n\nLove,\n\nYour Aunt\nnext\nThis year, you grew to be taller than me. I didn't know that would happen so soon. I have such mixed feelings about the man you are becoming. I am so proud of you for being smart and loving and courageous. But I'm not ready for you to be so grown up already. I see the little boys wearing clothes that you wore not so long ago and I remember you as a small child. \nRate how well the the text below better matches the suggestions and concepts written and described on the left\n3.0\n117.73336\n40.0\nThis year, you grew to be taller than me. I didn't know that would happen so soon. I have such mixed feelings about the man you are becoming. I am so proud of you for being smart and loving and courageous. But I'm not ready for you to be so grown up already. I see the little boys wearing clothes that you wore not so long ago and I remember you as a small child. I need you to shower and use deodorant because sometimes you have a strong smell that is not so pleasant.\nnext\nThis year, you grew to be taller than me. I didn't know that would happen so soon. I have such mixed feelings about the man you are becoming. I am so proud of you for being smart and loving and courageous. But I'm not ready for you to be so grown up already. I see the little boys wearing clothes that you wore not so long ago and I remember you as a small child. \nRate how well the the text below better matches the suggestions and concepts written and described on the left\n2.33333333333\n165.769758\n40.0\nYour teachers have been calling me to say that you stink.  When was the last time you took a shower?\nnext\nsorry about that so Happy 30th. No longer a millennial and what does it make you. love, dad "
     ]
    },
    {
     "name": "stdout",
     "output_type": "stream",
     "text": [
      "\nRate how well the ideas listed below would improve the content\n3.0\n38.803022\n16.0\nHappy belated 30th birthday son!  How does it feel that you're no longer a millennial?\n\nLove,\n\nDad\nnext\nsorry about that so Happy 30th. No longer a millennial and what does it make you. love, dad \nRate how well the text below improves and expands the content. Uses the suggestions and context to help inform you\n3.33333333333\n34.343653\n18.1818181818\nHappy 30th! You'll always be a millennial to me. Love you!\nnext\nsorry about that so Happy 30th. No longer a millennial and what does it make you. love, dad \nRate how well the text below improves and expands the content. Uses the suggestions and context to help inform you\n3.66666666667\n234.317467\n18.1818181818\nHappy belated birthday, son! I'm sorry I couldn't write this sooner. Wow, you've just turned thirty. How does it feel to no longer be a millennial? Don't sweat it, look at me! I'm old and am still love life. But this day is about you. Keep your spirits up. Make the most of your time and live life to the fullest.\n\nLove,\nDad\n\n\nnext\nsorry about that so Happy 30th. No longer a millennial and what does it make you. love, dad \nRate how well the text below improves and expands the content. Uses the suggestions and context to help inform you\n4.66666666667\n116.569716\n18.1818181818\nI had just turned 30 and was feeling a bit down. To make matter worse, my Dad forgot my birthday and  sent me a short message saying \"Happy Belated 30th birthday son! How does it feel that you're no longer a millenial? Love, Dad\". \nnext\nsorry about that so Happy 30th. No longer a millennial and what does it make you. love, dad "
     ]
    },
    {
     "name": "stdout",
     "output_type": "stream",
     "text": [
      "\nRate how well the text below improves and expands the content. Uses the suggestions and context to help inform you\n4.33333333333\n59.320906\n18.1818181818\nSon, \n\nSorry about absentmindedly overlooking your birthday.  I suppose that's going to happen more and more as I age.  So don't be surprised.  Anyway, Happy 30th!  Now that you aren't a millenial anymore, what exactly are you?\n\nLove,  Dad\nnext\nI had just turned 30 and was feeling a bit down. To make matter worse, my Dad forgot my birthday and  sent me a short message saying \"Happy Belated 30th birthday son! How does it feel that you're no longer a millenial? Love, Dad\". \nRate how well the ideas listed below would improve the content\n3.33333333333\n123.904253\n13.4545454545\nTo make matters worst\nTo make matters worst, my dad\na short message saying, \"Happy \nnext\nI had just turned 30 and was feeling a bit down. To make matter worse, my Dad forgot my birthday and  sent me a short message saying \"Happy Belated 30th birthday son! How does it feel that you're no longer a millenial? Love, Dad\". \nRate how well the ideas listed below would improve the content\n3.33333333333\n82.659597\n13.4545454545\ndon't sweat it he was maybe going through something himself \nnext\nI had just turned 30 and was feeling a bit down. To make matter worse, my Dad forgot my birthday and  sent me a short message saying \"Happy Belated 30th birthday son! How does it feel that you're no longer a millenial? Love, Dad\". "
     ]
    },
    {
     "name": "stdout",
     "output_type": "stream",
     "text": [
      "\nRate how well the ideas listed below would improve the content\n3.66666666667\n94.589113\n13.4545454545\nI would just say go out and have a few drinks with friends and just focus on what you will do now that your are 30\nnext\nI had just turned 30 and was feeling a bit down. To make matter worse, my Dad forgot my birthday and  sent me a short message saying \"Happy Belated 30th birthday son! How does it feel that you're no longer a millenial? Love, Dad\". \nRate how well the ideas listed below would improve the content\n3.0\n67.059218\n13.4545454545\nI am glad you're my son! \nI hope you are doing well today son, I love you.\nSon, you are the world to me, I love you. Thank you for being you!\nnext\nI had just turned 30 and was feeling a bit down. To make matter worse, my Dad forgot my birthday and  sent me a short message saying \"Happy Belated 30th birthday son! How does it feel that you're no longer a millenial? Love, Dad\". \nRate how well the text below improves and expands the content. Uses the suggestions and context to help inform you\n1.33333333333\n122.085776\n21.0909090909\nI hope you celebrated your 30th Birthday with your friends and enjoyed it to the fullest. With all my love, Dad\nnext\nI had just turned 30 and was feeling a bit down. To make matter worse, my Dad forgot my birthday and  sent me a short message saying \"Happy Belated 30th birthday son! How does it feel that you're no longer a millenial? Love, Dad\". "
     ]
    },
    {
     "name": "stdout",
     "output_type": "stream",
     "text": [
      "\nRate how well the text below improves and expands the content. Uses the suggestions and context to help inform you\n1.66666666667\n61.641412\n21.0909090909\nI hope you will go out and enjoy your day with your friends.  Then tomorrow start thinking about the future.\nnext\nI had just turned 30 and was feeling a bit down. To make matter worse, my Dad forgot my birthday and  sent me a short message saying \"Happy Belated 30th birthday son! How does it feel that you're no longer a millenial? Love, Dad\". \nRate how well the text below improves and expands the content. Uses the suggestions and context to help inform you\n4.33333333333\n25.431828\n21.0909090909\nHappy Belated 30th birthday son! How does it feel that you're no longer a millenial\nnext\nIn Boston, there's a monument for the man who was the owner of one of the largest film production companies ever. In truth, he wasn't really the most amazing producer at all. He stole innocence and virtue from many women. While the man's monument still stands, how many people today know that these women were traumatized? Unfortunately, the monument is made from materials that last, and the lie has stood the test of time. This example shows you have to be vigilant with regards to the truth, especially when the lie itself is weak. These weak lies won't last more than the average truths"
     ]
    },
    {
     "name": "stdout",
     "output_type": "stream",
     "text": [
      "\nRate how well does the text below sound better than it's source material above. Also account for how well it incorporates the ideas and suggestions on the left\n-2.0\n91.347454\n27.2727272727\n\nnext\nIn Boston, there's a monument for the man who was the owner of one of the largest film production companies ever. In truth, he wasn't really the most amazing producer at all. He stole innocence and virtue from many women. While the man's monument still stands, how many people today know that these women were traumatized? Unfortunately, the monument is made from materials that last, and the lie has stood the test of time. This example shows you have to be vigilant with regards to the truth, especially when the lie itself is weak. These weak lies won't last more than the average truths\nRate how well does the text below sound better than it's source material above. Also account for how well it incorporates the ideas and suggestions on the left\n-2.0\n71.593353\n27.2727272727\n\nnext\nIn Boston, there's a monument for the man who was the owner of one of the largest film production companies ever. In truth, he wasn't really the most amazing producer at all. He stole innocence and virtue from many women. While the man's monument still stands, how many people today know that these women were traumatized? Unfortunately, the monument is made from materials that last, and the lie has stood the test of time. This example shows you have to be vigilant with regards to the truth, especially when the lie itself is weak. These weak lies won't last more than the average truths\nRate how well does the text below sound better than it's source material above. Also account for how well it incorporates the ideas and suggestions on the left\n3.33333333333\n21.386323\n27.2727272727\nHollywood producer Harvey Weinstein, Democratic Congressman Al Franken, and other men in positions of power have resigned amid the allegations thus far. But, according to Crooks, despite publicly sharing the details of her alleged assault at the hands of the now-president, her and other women's ...\nnext\n"
     ]
    }
   ],
   "source": [
    "for database in databases:\n",
    "    conn, meta, session = db.connect(\"postgres\", \"1234\", db=database) \n",
    "    \n",
    "    process=session.query(db.Process_Text_Manipulation).subquery()\n",
    "    content=session.query(db.Content).filter((process.c.id == \n",
    "                                             db.Content.origin_process_id)\n",
    "                                             & (db.Content.is_completed==True)\n",
    "                                             )\n",
    "    content_subquery=content.subquery()\n",
    "    \n",
    "    \n",
    "    task_params=session.query(db.Task_Parameters).filter\\\n",
    "        (content_subquery.c.id==db.Task_Parameters.result_id).subquery()\n",
    "    \n",
    "    process_ratings=session.query(db.Process_Rate).\\\n",
    "        filter(task_params.c.id==db.Process_Rate.task_parameters_id).all()\n",
    "    \n",
    "    #Time it took to read the task, time it took to complete, and overall score\n",
    "    for i in process_ratings:\n",
    "        if  len(i.get_final_results_complete(session).all()) > 0:\n",
    "\n",
    "            \n",
    "            result=i.task_parameters_obj.result \n",
    "    \n",
    "            \n",
    "            score= i.get_final_results_complete(session).all()[0].results \n",
    "            \n",
    "            associated_process=session.query(db.Process_Text_Manipulation).filter\\\n",
    "                (result.origin_process_id==db.Process_Text_Manipulation.id).all()[0]\n",
    "            time_to_read= time_estimate(associated_process)\n",
    "            time_to_complete= (result.completed_date-result.assigned_date).total_seconds()\n",
    "            \n",
    "            print i.task_parameters_obj.body_of_task.results \n",
    "            print i.task_parameters_obj.prompt.results \n",
    "            \n",
    "            print score \n",
    "            print time_to_complete\n",
    "            print time_to_read\n",
    "            print i.task_parameters_obj.result.results \n",
    "            print \"next\"\n",
    "            \n",
    "            writing_score_matrix.append(\n",
    "                [float(score),time_to_read,time_to_complete])\n",
    "            for j in i.get_content_produced_by_this_process():\n",
    "                if j.is_completed == True:\n",
    "                    time_to_read= time_estimate(i) \n",
    "                    avg_score=float(score)\n",
    "                    score = -2\n",
    "                    try:\n",
    "                        score=float(j.results)\n",
    "                    except: pass \n",
    "                    general_time_to_complete=time_to_complete \n",
    "                    time_to_complete=(j.completed_date-j.assigned_date).total_seconds()\n",
    "                    time_to_read_result=len(result.results.split(\" \"))/5.5\n",
    "                    rating_task=[score,avg_score,time_to_read,time_to_read_result,\n",
    "                                 time_to_complete]\n",
    "                    rating_score_matrix.append(rating_task)\n",
    "        #print \"end of content\""
   ]
  },
  {
   "cell_type": "heading",
   "metadata": {},
   "level": 2,
   "source": [
    ""
   ]
  },
  {
   "cell_type": "code",
   "execution_count": 271,
   "metadata": {},
   "outputs": [],
   "source": [
    "import pandas as pd \n",
    "import numpy as np \n",
    "ary=np.array(writing_score_matrix)\n",
    "frame=pd.DataFrame(data=ary,columns=[\"Score\",\"Time_To_Read\",\"Time_To_Complete\"])\n",
    "frame[\"ratio\"]=frame.Time_To_Complete/frame.Time_To_Read\n",
    "function=lambda t: \"Bad\" if t < 3 else \"Good\"\n",
    "frame[\"binary_score\"]=frame['Score'].apply(function)"
   ]
  },
  {
   "cell_type": "code",
   "execution_count": 272,
   "metadata": {},
   "outputs": [
    {
     "data": {
      "text/plain": [
       "LabelEncoder()"
      ]
     },
     "execution_count": 272,
     "metadata": {},
     "output_type": "execute_result"
    }
   ],
   "source": [
    "from sklearn.linear_model import LogisticRegression\n",
    "from sklearn.neural_network import MLPClassifier\n",
    "from sklearn.metrics import confusion_matrix\n",
    "from sklearn import preprocessing\n",
    "from sklearn.metrics import precision_recall_curve\n",
    "from sklearn.metrics import roc_curve\n",
    "\n",
    "names=preprocessing.LabelEncoder()\n",
    "names.fit(frame['binary_score'])"
   ]
  },
  {
   "cell_type": "code",
   "execution_count": 273,
   "metadata": {},
   "outputs": [
    {
     "name": "stdout",
     "output_type": "stream",
     "text": [
      "0.655172413793\n174\nclasses\n[ 0.  1.]\n86\n86\n85\n          pr        rc       thr\n0   0.635294  1.000000  0.288108\n1   0.630952  0.981481  0.300502\n2   0.638554  0.981481  0.307803\n3   0.646341  0.981481  0.309975\n4   0.641975  0.962963  0.335519\n5   0.637500  0.944444  0.363713\n6   0.645570  0.944444  0.370685\n7   0.641026  0.925926  0.372216\n8   0.636364  0.907407  0.374336\n9   0.631579  0.888889  0.375807\n10  0.626667  0.870370  0.376253\n11  0.621622  0.851852  0.376464\n12  0.616438  0.833333  0.385344\n13  0.611111  0.814815  0.389431\n14  0.605634  0.796296  0.392442\n15  0.600000  0.777778  0.396140\n16  0.594203  0.759259  0.403295\n17  0.588235  0.740741  0.407396\n18  0.582090  0.722222  0.418279\n19  0.590909  0.722222  0.419545\n20  0.584615  0.703704  0.424490\n21  0.578125  0.685185  0.425077\n22  0.587302  0.685185  0.439366\n23  0.580645  0.666667  0.441579\n24  0.573770  0.648148  0.442890\n25  0.566667  0.629630  0.444154\n26  0.559322  0.611111  0.450012\n27  0.551724  0.592593  0.453790\n28  0.561404  0.592593  0.507587\n29  0.571429  0.592593  0.511113\n..       ...       ...       ...\n55  0.666667  0.370370  0.628618\n56  0.689655  0.370370  0.629843\n57  0.678571  0.351852  0.630208\n58  0.666667  0.333333  0.630755\n59  0.692308  0.333333  0.633681\n60  0.680000  0.314815  0.634886\n61  0.708333  0.314815  0.655178\n62  0.695652  0.296296  0.659016\n63  0.681818  0.277778  0.661157\n64  0.714286  0.277778  0.664144\n65  0.750000  0.277778  0.664916\n66  0.789474  0.277778  0.666176\n67  0.777778  0.259259  0.677809\n68  0.823529  0.259259  0.678074\n69  0.812500  0.240741  0.678478\n70  0.800000  0.222222  0.682441\n71  0.857143  0.222222  0.683289\n72  0.923077  0.222222  0.694449\n73  1.000000  0.222222  0.696919\n74  1.000000  0.203704  0.704456\n75  1.000000  0.185185  0.732674\n76  1.000000  0.166667  0.764450\n77  1.000000  0.148148  0.778987\n78  1.000000  0.129630  0.779965\n79  1.000000  0.111111  0.787246\n80  1.000000  0.092593  0.787950\n81  1.000000  0.074074  0.839563\n82  1.000000  0.055556  0.880019\n83  1.000000  0.037037  0.909074\n84  1.000000  0.018519  0.954644\n\n[85 rows x 3 columns]\n"
     ]
    },
    {
     "data": {
      "text/plain": [
       "array([[50, 16],\n       [44, 64]])"
      ]
     },
     "execution_count": 273,
     "metadata": {},
     "output_type": "execute_result"
    }
   ],
   "source": [
    "from sklearn.metrics import r2_score\n",
    "from sklearn import tree \n",
    "from sklearn.linear_model import Ridge\n",
    "from sklearn.preprocessing import PolynomialFeatures\n",
    "from sklearn.pipeline import make_pipeline\n",
    "from sklearn.metrics import mean_absolute_error\n",
    "from sklearn.ensemble import RandomForestClassifier\n",
    "from sklearn.neighbors import KNeighborsClassifier\n",
    "#r=tree.DecisionTreeClassifier(criterion=\"entropy\",min_samples_split=10)\n",
    "#r=RandomForestClassifier(min_samples_split=10)\n",
    "r=LogisticRegression()\n",
    "#r=KNeighborsClassifier(n_neighbors=5)\n",
    "p=make_pipeline( r) #PolynomialFeatures(1)\n",
    "\n",
    "#p=LogisticRegression()\n",
    "\n",
    "X=frame[[\"Time_To_Read\",\"Time_To_Complete\",\"ratio\"]]\n",
    "y=frame[\"binary_score\"]\n",
    "X, y = balanced_subsample(X.values,names.transform(y))\n",
    "p.fit(X,y)\n",
    "\n",
    "frame_pos=frame #frame[frame.Score>0] #[frame.binary_score==\"Good\"]\n",
    "X=frame_pos[[\"Time_To_Read\",\"Time_To_Complete\",\"ratio\"]]\n",
    "y=frame_pos[\"binary_score\"]\n",
    "\n",
    "predicted_y= p.predict(X.values)\n",
    "#print y \n",
    "#print predicted_y\n",
    "print p.score(X.values,names.transform(y.values) ) \n",
    "print len(y.values)\n",
    "\n",
    "\n",
    "\n",
    "#print p.coef_\n",
    "#print p.get_params()\n",
    "predicted_prob= p.predict_proba(X.values)\n",
    "#print r.feature_importances_\n",
    "ground_truth_y_predicted_prob=[]\n",
    "print \"classes\"\n",
    "print r.classes_\n",
    "for i,j in enumerate(y):\n",
    "    \n",
    "    location= names.transform([j])[0]\n",
    "    #print \"name\"\n",
    "    #print j \n",
    "    #print location\n",
    "    #print r.classes_\n",
    "    #print predicted_prob[i]\n",
    "    #print predicted_prob[i][location]\n",
    "    ground_truth_y_predicted_prob.append(predicted_prob[i][location])\n",
    "#good set\n",
    "predicted=p.predict(X)\n",
    "#print np.array(ground_truth_y_predicted_prob)\n",
    "prc= precision_recall_curve(names.transform(y.values),\n",
    "                       ground_truth_y_predicted_prob)\n",
    "print len(prc[0])\n",
    "print len(prc[1])\n",
    "print len(prc[2])\n",
    "print pandas.DataFrame(data={\"pr\":prc[0][:-1],\"rc\":prc[1][:-1],\"thr\":prc[2]})\n",
    "confusion_matrix(names.transform(y.values),predicted)"
   ]
  },
  {
   "cell_type": "code",
   "execution_count": 279,
   "metadata": {},
   "outputs": [
    {
     "name": "stdout",
     "output_type": "stream",
     "text": [
      "[[ 0.45330046  0.54669954]]\n"
     ]
    }
   ],
   "source": [
    "#\"Time_To_Read\",\"Time_To_Complete\",\"ratio\"\n",
    "time_to_read=30\n",
    "time_to_complete=200\n",
    "ratio=time_to_complete/time_to_read\n",
    "print r.predict_proba([[time_to_read,time_to_complete,ratio]])\n",
    "import cPickle\n",
    "# save the classifier\n",
    "with open('logistic_model_simple.pkl', 'wb') as fid:\n",
    "    cPickle.dump(r, fid) \n",
    "\n",
    "#if score > 3\n",
    "# 1- no_prob * score versus\n",
    "#"
   ]
  },
  {
   "cell_type": "code",
   "execution_count": 60,
   "metadata": {},
   "outputs": [
    {
     "name": "stdout",
     "output_type": "stream",
     "text": [
      "0.545454545455\n[[13  5]\n [15 11]]\n0.581395348837\n[[10  5]\n [13 15]]\n"
     ]
    }
   ],
   "source": [
    "from sklearn.model_selection import KFold\n",
    "k=KFold(n_splits=2)\n",
    "#r=tree.DecisionTreeClassifier(min_samples_split=10)\n",
    "#p=make_pipeline(PolynomialFeatures(1), r)\n",
    "frame_subset=frame #[frame[\"binary_score\"]==\"Bad\"]\n",
    "X=frame_subset[[\"Time_To_Read\",\"Time_To_Complete\",\"ratio\"]]\n",
    "y=frame_subset[[\"binary_score\"]]\n",
    "for train,test in k.split(X.values,y.values):\n",
    "    train_X=X.values[train]\n",
    "    train_y=y.values[train]\n",
    "    train_X,train_y=balanced_subsample(train_X,names.transform(train_y))\n",
    "    test_y=names.transform(y.values[test])\n",
    "    test_X=X.values[test]\n",
    "    p.fit(train_X,train_y)\n",
    "    print p.score(test_X,test_y)\n",
    "    print confusion_matrix(test_y,p.predict(test_X))"
   ]
  },
  {
   "cell_type": "code",
   "execution_count": 11,
   "metadata": {},
   "outputs": [],
   "source": [
    ""
   ]
  },
  {
   "cell_type": "code",
   "execution_count": 258,
   "metadata": {},
   "outputs": [
    {
     "data": {
      "text/plain": [
       "LabelEncoder()"
      ]
     },
     "execution_count": 258,
     "metadata": {},
     "output_type": "execute_result"
    }
   ],
   "source": [
    "import pandas as pd \n",
    "import numpy as np \n",
    "ary=np.array(rating_score_matrix)\n",
    "\n",
    "frame=pd.DataFrame(data=ary,columns=[\"Score\",\"Avg_Score\",\"Time_To_Read\",\n",
    "                                     \"Time_To_Read_Result\",\n",
    "                                     \"Time_To_Complete\"])\n",
    "\n",
    "frame[\"ratio\"]=frame.Time_To_Complete/frame.Time_To_Read\n",
    "frame[\"score_diff\"]=(frame.Avg_Score-frame.Score).abs()\n",
    "function=lambda t: \"Bad\" if t > 2 else \"Good\"\n",
    "frame[\"binary_score\"]=frame['score_diff'].apply(function)\n",
    "\n",
    "\n",
    "names=preprocessing.LabelEncoder()\n",
    "names.fit(frame['binary_score'])"
   ]
  },
  {
   "cell_type": "code",
   "execution_count": 259,
   "metadata": {},
   "outputs": [],
   "source": [
    "from sklearn.metrics import r2_score\n",
    "from sklearn.linear_model import Ridge\n",
    "from sklearn.metrics import mean_squared_error\n",
    "from sklearn.preprocessing import PolynomialFeatures\n",
    "from sklearn.pipeline import make_pipeline\n",
    "from sklearn.metrics import mean_absolute_error\n",
    "from sklearn import tree\n",
    "\n",
    "r=tree.DecisionTreeClassifier(min_samples_split=10)\n",
    "p=make_pipeline( r) #PolynomialFeatures(1),\n",
    "\n",
    "#p=LogisticRegression()\n",
    "frame=frame #[frame[\"score_diff\"]>0]\n",
    "X=frame[[\"Time_To_Read\",\"Time_To_Read_Result\",\"Time_To_Complete\",\"ratio\"]]\n",
    "y=frame[\"binary_score\"]\n",
    "\n",
    "p.fit(X.values,y.values)\n",
    "\n",
    "frame_pos=frame#[frame.binary_score==\"Bad\"]\n",
    "X=frame_pos[[\"Time_To_Read\",\"Time_To_Read_Result\",\"Time_To_Complete\",\"ratio\"]]\n",
    "y=frame_pos[\"binary_score\"]\n",
    "predicted_y= p.predict(X.values)\n",
    "#print y \n",
    "#print predicted_y\n",
    "#print p.score(X.values,y.values) \n",
    "#print mean_absolute_error(y,predicted_y)\n",
    "#print mean_squared_error(y,predicted_y)\n",
    "#print len(predicted_y)\n",
    "\n",
    "\n",
    "#print pandas.DataFrame(data={\"y_hat\": predicted_y, \"y\":y})"
   ]
  },
  {
   "cell_type": "code",
   "execution_count": 260,
   "metadata": {},
   "outputs": [
    {
     "name": "stdout",
     "output_type": "stream",
     "text": [
      "-0.0221985591442\n-0.0607216945362\n-0.0414601268402 1.07077417578 2.15664599067\n"
     ]
    }
   ],
   "source": [
    "from sklearn.model_selection import KFold\n",
    "from sklearn.neighbors import KNeighborsRegressor\n",
    "from sklearn.ensemble import RandomForestRegressor\n",
    "from sklearn.svm import SVR\n",
    "from sklearn.preprocessing import StandardScaler\n",
    "splits=2\n",
    "k=KFold(n_splits=splits,shuffle=True)\n",
    "r=RandomForestRegressor(min_samples_split=5)\n",
    "r=Ridge()\n",
    "#r=RandomForestRegressor(min_samples_split=5)\n",
    "#r=SVR()#KNeighborsRegressor(n_neighbors=10)\n",
    "\n",
    "#r=tree.DecisionTreeClassifier(min_samples_split=10)\n",
    "#p=make_pipeline(PolynomialFeatures(1), r)\n",
    "frame_subset=frame #[frame[\"binary_score\"]==\"Bad\"]\n",
    "X=frame_subset[[\"Score\",\"ratio\",\"Time_To_Read\",\"Time_To_Read_Result\",\"Time_To_Complete\"]]\n",
    "y=frame_subset[\"score_diff\"]\n",
    "\n",
    "X_transformed_scaler=StandardScaler()\n",
    "X_transformed_scaler.fit(X.values)\n",
    "p=make_pipeline(X_transformed_scaler, r)\n",
    "#print X\n",
    "total_score=0\n",
    "total_abs_error=0\n",
    "total_squared_err=0\n",
    "\n",
    "#pandas.DataFrame(data={\"x\":X[\"ratio\"],\"y\":y}).to_csv(\"graph_data.csv\")\n",
    "\n",
    "for train,test in k.split(X.values,y.values):\n",
    "    train_X=X.values[train]\n",
    "    train_y=y.values[train]\n",
    "  \n",
    "    test_y=y.values[test]\n",
    "   \n",
    "    test_X=X.values[test]\n",
    "    \n",
    "    #print len(test_y)\n",
    "    #print len(train_y)\n",
    "    p.fit(train_X,train_y)\n",
    "    #print r.decision_path(test_X)\n",
    "    total_score+= p.score(test_X,test_y)\n",
    "   \n",
    "    predicted_y=p.predict(test_X)\n",
    "    \n",
    "    print p.score(test_X,test_y)\n",
    "   \n",
    "    total_abs_error+= mean_absolute_error(test_y,predicted_y)\n",
    "    total_squared_err+= mean_squared_error(test_y,predicted_y)\n",
    "#print r.feature_importances_\n",
    "print total_score/float(splits),\n",
    "print total_abs_error/float(splits),\n",
    "print total_squared_err/float(splits)"
   ]
  },
  {
   "cell_type": "code",
   "execution_count": 269,
   "metadata": {},
   "outputs": [
    {
     "data": {
      "text/plain": [
       "array([ 1.06112549])"
      ]
     },
     "execution_count": 269,
     "metadata": {},
     "output_type": "execute_result"
    }
   ],
   "source": [
    "#[\"Score\",\"ratio\",\"Time_To_Read\",\"Time_To_Read_Result\",\"Time_To_Complete\"]\n",
    "p.fit(X.values,y.values )\n",
    "p.predict([[5,2,15,14,15]])"
   ]
  },
  {
   "cell_type": "code",
   "execution_count": 242,
   "metadata": {},
   "outputs": [],
   "source": [
    "def balanced_subsample(x,y,subsample_size=1.0):\n",
    "\n",
    "    class_xs = []\n",
    "    min_elems = None\n",
    "\n",
    "    for yi in np.unique(y):\n",
    "        elems = x[(y == yi)]\n",
    "        class_xs.append((yi, elems))\n",
    "        if min_elems == None or elems.shape[0] < min_elems:\n",
    "            min_elems = elems.shape[0]\n",
    "\n",
    "    use_elems = min_elems\n",
    "    if subsample_size < 1:\n",
    "        use_elems = int(min_elems*subsample_size)\n",
    "\n",
    "    xs = []\n",
    "    ys = []\n",
    "\n",
    "    for ci,this_xs in class_xs:\n",
    "        if len(this_xs) > use_elems:\n",
    "            np.random.shuffle(this_xs)\n",
    "\n",
    "        x_ = this_xs[:use_elems]\n",
    "        y_ = np.empty(use_elems)\n",
    "        y_.fill(ci)\n",
    "\n",
    "        xs.append(x_)\n",
    "        ys.append(y_)\n",
    "\n",
    "    xs = np.concatenate(xs)\n",
    "    ys = np.concatenate(ys)\n",
    "\n",
    "    return xs,ys"
   ]
  },
  {
   "cell_type": "code",
   "execution_count": null,
   "metadata": {},
   "outputs": [],
   "source": [
    ""
   ]
  }
 ],
 "metadata": {
  "kernelspec": {
   "display_name": "Python 2",
   "language": "python",
   "name": "python2"
  },
  "language_info": {
   "codemirror_mode": {
    "name": "ipython",
    "version": 2.0
   },
   "file_extension": ".py",
   "mimetype": "text/x-python",
   "name": "python",
   "nbconvert_exporter": "python",
   "pygments_lexer": "ipython2",
   "version": "2.7.6"
  }
 },
 "nbformat": 4,
 "nbformat_minor": 0
}